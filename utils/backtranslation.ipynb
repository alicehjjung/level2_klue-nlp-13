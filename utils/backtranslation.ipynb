{
  "cells": [
    {
      "cell_type": "code",
      "execution_count": null,
      "metadata": {},
      "outputs": [],
      "source": [
        "!pip install googletrans==3.1.0a0 "
      ]
    },
    {
      "cell_type": "code",
      "execution_count": null,
      "metadata": {
        "id": "rJxUvcWZ5cpN"
      },
      "outputs": [],
      "source": [
        "from googletrans import Translator\n",
        "import pandas as pd\n",
        "from tqdm import tqdm\n",
        "from ast import literal_eval\n",
        "\n",
        "translator = Translator()"
      ]
    },
    {
      "cell_type": "code",
      "execution_count": null,
      "metadata": {
        "id": "NpbJWfXi65zJ"
      },
      "outputs": [],
      "source": [
        "df = pd.read_csv('train.csv')"
      ]
    },
    {
      "cell_type": "code",
      "execution_count": null,
      "metadata": {
        "id": "48W5LpBA5DwO"
      },
      "outputs": [],
      "source": [
        "def str_to_dict(dataset):\n",
        "    def func(obj):\n",
        "        List = literal_eval(obj)\n",
        "        return List\n",
        "    \n",
        "    out = dataset.copy()\n",
        "    out['subject_entity'] = dataset['subject_entity'].apply(func)\n",
        "    out['object_entity'] = dataset['object_entity'].apply(func)\n",
        "    \n",
        "    return out\n",
        "    \n",
        "out_dataset = str_to_dict(df)\n",
        "out_dataset"
      ]
    },
    {
      "cell_type": "code",
      "execution_count": null,
      "metadata": {
        "id": "tfK1i75jAPrD"
      },
      "outputs": [],
      "source": [
        "new_df=pd.DataFrame()\n",
        "ids=[]\n",
        "sentence=[]\n",
        "se=[]\n",
        "oe=[]\n",
        "lab=[]\n",
        "source=[]"
      ]
    },
    {
      "cell_type": "code",
      "execution_count": null,
      "metadata": {
        "id": "zeqHnsebyFrd"
      },
      "outputs": [],
      "source": [
        "for i in tqdm(list(out_dataset['id']), desc='Back Translation', total=len(out_dataset)):\n",
        "      subject_ent = out_dataset['subject_entity'][i]\n",
        "      object_ent = out_dataset['object_entity'][i]\n",
        "      sen = out_dataset['sentence'][i]\n",
        "      \n",
        "      new = translator.translate(translator.translate(sen, src='ko', dest='en').text, src='en', dest='ko').text\n",
        "\n",
        "      if new.find(subject_ent['word'])>=0 and new.find(object_ent['word'])>=0:\n",
        "        subject_ent['start_idx'] = new.index(subject_ent['word'])\n",
        "        subject_ent['end_idx'] = subject_ent['start_idx'] + len(subject_ent['word']) - 1\n",
        "        object_ent['start_idx'] = new.index(object_ent['word'])\n",
        "        object_ent['end_idx'] = object_ent['start_idx'] + len(object_ent['word']) - 1\n",
        "\n",
        "        subject_ent=str(subject_ent)\n",
        "        object_ent=str(object_ent)\n",
        "\n",
        "        ids.append(i)\n",
        "        sentence.append(new)\n",
        "        se.append(subject_ent)\n",
        "        oe.append(object_ent)\n",
        "        lab.append(out_dataset['label'][i])\n",
        "        source.append(out_dataset['source'][i])\n",
        "\n",
        "new_df=pd.DataFrame(ids)\n",
        "new_df.columns=['id']\n",
        "new_df['sentence'],new_df['subject_entity'],new_df['object_entity'],new_df['label'],new_df['source']=sentence,se,oe,lab,source\n",
        "new_df.to_csv(\"translated_train.csv\",index=False)\n",
        "new_df"
      ]
    },
    {
      "cell_type": "code",
      "execution_count": null,
      "metadata": {
        "id": "C6BJV-shTmOJ"
      },
      "outputs": [],
      "source": [
        "df = pd.read_csv('train.csv')\n",
        "df2 = pd.read_csv('translated_train.csv')"
      ]
    },
    {
      "cell_type": "code",
      "execution_count": null,
      "metadata": {
        "id": "2B5myftsTrYX"
      },
      "outputs": [],
      "source": [
        "new_df=pd.concat([df,df2])\n",
        "new_df"
      ]
    },
    {
      "cell_type": "code",
      "execution_count": null,
      "metadata": {
        "id": "SQ0PPuJPTrRC"
      },
      "outputs": [],
      "source": [
        "new_df.to_csv(\"translated+train.csv\",index=False)"
      ]
    }
  ],
  "metadata": {
    "colab": {
      "gpuType": "T4",
      "provenance": []
    },
    "gpuClass": "standard",
    "kernelspec": {
      "display_name": "Python 3",
      "name": "python3"
    },
    "language_info": {
      "name": "python"
    }
  },
  "nbformat": 4,
  "nbformat_minor": 0
}
